{
 "cells": [
  {
   "cell_type": "code",
   "execution_count": 1,
   "id": "18c0f174",
   "metadata": {},
   "outputs": [],
   "source": [
    "from sympy import *\n"
   ]
  },
  {
   "cell_type": "code",
   "execution_count": 2,
   "id": "5b8b5658",
   "metadata": {},
   "outputs": [
    {
     "data": {
      "text/latex": [
       "$\\displaystyle \\left(\\frac{\\sin{\\left(x \\right)}}{2} + \\frac{\\cos{\\left(x \\right)}}{2}\\right)^{2} \\sin{\\left(x \\right)}$"
      ],
      "text/plain": [
       "(sin(x)/2 + cos(x)/2)**2*sin(x)"
      ]
     },
     "execution_count": 2,
     "metadata": {},
     "output_type": "execute_result"
    }
   ],
   "source": [
    "x = Symbol('x')\n",
    "func = (sin(x)/2 + cos(x)/2) ** 2 * sin(x)\n",
    "func"
   ]
  },
  {
   "cell_type": "markdown",
   "id": "8c5dfdfb",
   "metadata": {},
   "source": [
    "4) **Построить график**"
   ]
  },
  {
   "cell_type": "code",
   "execution_count": 3,
   "id": "6da0dc7c",
   "metadata": {
    "scrolled": false
   },
   "outputs": [
    {
     "data": {
      "image/png": "[encoded data removed]",
      "text/plain": [
       "<Figure size 640x480 with 1 Axes>"
      ]
     },
     "metadata": {},
     "output_type": "display_data"
    }
   ],
   "source": [
    "graph = plot(func, (x, 0, 2*pi))"
   ]
  },
  {
   "cell_type": "markdown",
   "id": "f701f2ef",
   "metadata": {},
   "source": [
    "1) **Орпеделение корней:**"
   ]
  },
  {
   "cell_type": "code",
   "execution_count": 4,
   "id": "8f0000db",
   "metadata": {},
   "outputs": [
    {
     "data": {
      "text/plain": [
       "[0, -pi/4, 3*pi/4, pi]"
      ]
     },
     "execution_count": 4,
     "metadata": {},
     "output_type": "execute_result"
    }
   ],
   "source": [
    "root = solve(func,x)\n",
    "root"
   ]
  },
  {
   "cell_type": "markdown",
   "id": "06d8bab0",
   "metadata": {},
   "source": [
    "2) **Нахождение интервалов**"
   ]
  },
  {
   "cell_type": "code",
   "execution_count": 5,
   "id": "6345c3c0",
   "metadata": {},
   "outputs": [
    {
     "data": {
      "text/latex": [
       "$\\displaystyle \\left(- \\sin{\\left(x \\right)} + \\cos{\\left(x \\right)}\\right) \\left(\\frac{\\sin{\\left(x \\right)}}{2} + \\frac{\\cos{\\left(x \\right)}}{2}\\right) \\sin{\\left(x \\right)} + \\left(\\frac{\\sin{\\left(x \\right)}}{2} + \\frac{\\cos{\\left(x \\right)}}{2}\\right)^{2} \\cos{\\left(x \\right)}$"
      ],
      "text/plain": [
       "(-sin(x) + cos(x))*(sin(x)/2 + cos(x)/2)*sin(x) + (sin(x)/2 + cos(x)/2)**2*cos(x)"
      ]
     },
     "execution_count": 5,
     "metadata": {},
     "output_type": "execute_result"
    }
   ],
   "source": [
    "# производная\n",
    "res = diff(func,x)\n",
    "res"
   ]
  },
  {
   "cell_type": "raw",
   "id": "304072cb",
   "metadata": {},
   "source": [
    "# solve([x>=0, x <= periodicity(func, x), func], x)"
   ]
  },
  {
   "cell_type": "code",
   "execution_count": 6,
   "id": "2db15e68",
   "metadata": {},
   "outputs": [
    {
     "data": {
      "text/plain": [
       "[-pi/4,\n",
       " 3*pi/4,\n",
       " -2*atan(-3/2 + sqrt(6)*sqrt(5 - sqrt(17))/2 + sqrt(17)/2),\n",
       " 2*atan(3/2 + sqrt(17)/2 + sqrt(6)*sqrt(sqrt(17) + 5)/2),\n",
       " 2*atan(-sqrt(17)/2 + sqrt(6)*sqrt(5 - sqrt(17))/2 + 3/2),\n",
       " 2*atan(-sqrt(6)*sqrt(sqrt(17) + 5)/2 + 3/2 + sqrt(17)/2)]"
      ]
     },
     "execution_count": 6,
     "metadata": {},
     "output_type": "execute_result"
    }
   ],
   "source": [
    "# корень производной\n",
    "root_res = solve(res, x)\n",
    "root_res"
   ]
  },
  {
   "cell_type": "code",
   "execution_count": 7,
   "id": "539f6779",
   "metadata": {},
   "outputs": [
    {
     "data": {
      "text/plain": [
       "[-pi, -2.08, -0.79, -0.27, 1.06, 2.36, 2.87, pi]"
      ]
     },
     "execution_count": 7,
     "metadata": {},
     "output_type": "execute_result"
    }
   ],
   "source": [
    "# перегибы\n",
    "point = []  \n",
    "for i in root_res:\n",
    "    point.append(round(i.evalf(),2))\n",
    "point.insert(0,-pi)\n",
    "point.append(pi)\n",
    "point.sort()\n",
    "point"
   ]
  },
  {
   "cell_type": "code",
   "execution_count": 8,
   "id": "c9128743",
   "metadata": {},
   "outputs": [
    {
     "data": {
      "text/plain": [
       "[Interval(-pi, -2.08),\n",
       " Interval(-2.08, -0.79),\n",
       " Interval(-0.79, -0.27),\n",
       " Interval(-0.27, 1.06),\n",
       " Interval(1.06, 2.36),\n",
       " Interval(2.36, 2.87),\n",
       " Interval(2.87, pi)]"
      ]
     },
     "execution_count": 8,
     "metadata": {},
     "output_type": "execute_result"
    }
   ],
   "source": [
    "interval = []\n",
    "for i in range(0, len(point)-1):\n",
    "    interval.append(Interval(point[i], point[i+1]))\n",
    "interval\n",
    "    \n"
   ]
  },
  {
   "cell_type": "code",
   "execution_count": 9,
   "id": "00b8e1d6",
   "metadata": {},
   "outputs": [
    {
     "data": {
      "text/plain": [
       "[-2.61, -1.44, -0.53, 0.40, 1.71, 2.62, 3.01]"
      ]
     },
     "execution_count": 9,
     "metadata": {},
     "output_type": "execute_result"
    }
   ],
   "source": [
    "mid_interval = []\n",
    "for i in range(0, len(point)-1):\n",
    "    mid_interval.append(round((point[i]+ (point[i+1] - point[i])/2).evalf(),2))\n",
    "mid_interval"
   ]
  },
  {
   "cell_type": "markdown",
   "id": "801cf3af",
   "metadata": {},
   "source": [
    "3) **Нахождение интервалов, на которых функция возрастает**"
   ]
  },
  {
   "cell_type": "code",
   "execution_count": 10,
   "id": "5f4ace94",
   "metadata": {},
   "outputs": [
    {
     "name": "stdout",
     "output_type": "stream",
     "text": [
      "Interval(-2.08, -0.79)\n",
      "Interval(-0.27, 1.06)\n",
      "Interval(2.36, 2.87)\n"
     ]
    }
   ],
   "source": [
    "for i, j in enumerate(mid_interval):\n",
    "    if res.subs(x, j).evalf() > 0:\n",
    "        print(f'{interval[i]}')"
   ]
  },
  {
   "cell_type": "markdown",
   "id": "ef5d3dd3",
   "metadata": {},
   "source": [
    "4) **Найти интервалы, на которых функция убывает**"
   ]
  },
  {
   "cell_type": "code",
   "execution_count": 11,
   "id": "ef17982a",
   "metadata": {},
   "outputs": [
    {
     "name": "stdout",
     "output_type": "stream",
     "text": [
      "Interval(-pi, -2.08)\n",
      "Interval(-0.79, -0.27)\n",
      "Interval(1.06, 2.36)\n",
      "Interval(2.87, pi)\n"
     ]
    }
   ],
   "source": [
    "for i, j in enumerate(mid_interval):\n",
    "    if res.subs(x, j).evalf() < 0:\n",
    "        print(f'{interval[i]}')"
   ]
  },
  {
   "cell_type": "markdown",
   "id": "432b598e",
   "metadata": {},
   "source": [
    "5) **Вычислить вершину**"
   ]
  },
  {
   "cell_type": "code",
   "execution_count": 12,
   "id": "83383db4",
   "metadata": {},
   "outputs": [
    {
     "name": "stdout",
     "output_type": "stream",
     "text": [
      "1: x = -2.08, y = -0.40\n",
      "2: x = -0.79, y = 0.0\n",
      "3: x = -0.27, y = -0.03\n",
      "4: x = 1.06, y = 0.40\n",
      "5: x = 2.36, y = 0.0\n",
      "6: x = 2.87, y = 0.03\n"
     ]
    }
   ],
   "source": [
    "vershina = point[1:-1]\n",
    "index = 1\n",
    "for i in vershina:\n",
    "    print(f'{index}: x = {i}, y = {round(func.subs(x,i).evalf(),2)}')\n",
    "    index += 1"
   ]
  },
  {
   "cell_type": "markdown",
   "id": "18dcb26f",
   "metadata": {},
   "source": [
    "6) **Определить промежутки, на котором f > 0**"
   ]
  },
  {
   "cell_type": "code",
   "execution_count": 13,
   "id": "b49e268b",
   "metadata": {},
   "outputs": [
    {
     "data": {
      "text/latex": [
       "$\\displaystyle \\left(0, \\frac{3 \\pi}{4}\\right) \\cup \\left(\\frac{3 \\pi}{4}, \\pi\\right)$"
      ],
      "text/plain": [
       "Union(Interval.open(0, 3*pi/4), Interval.open(3*pi/4, pi))"
      ]
     },
     "execution_count": 13,
     "metadata": {},
     "output_type": "execute_result"
    }
   ],
   "source": [
    "solveset(func > 0, x, S.Reals)"
   ]
  },
  {
   "cell_type": "markdown",
   "id": "20379d40",
   "metadata": {},
   "source": [
    "7) **Определить промежутки, на котором f < 0**"
   ]
  },
  {
   "cell_type": "code",
   "execution_count": 14,
   "id": "69a43e25",
   "metadata": {},
   "outputs": [
    {
     "data": {
      "text/latex": [
       "$\\displaystyle \\left(\\pi, \\frac{7 \\pi}{4}\\right) \\cup \\left(\\frac{7 \\pi}{4}, 2 \\pi\\right)$"
      ],
      "text/plain": [
       "Union(Interval.open(pi, 7*pi/4), Interval.open(7*pi/4, 2*pi))"
      ]
     },
     "execution_count": 14,
     "metadata": {},
     "output_type": "execute_result"
    }
   ],
   "source": [
    "solveset(func < 0, x, S.Reals)"
   ]
  },
  {
   "cell_type": "code",
   "execution_count": null,
   "id": "a53840bd",
   "metadata": {},
   "outputs": [],
   "source": []
  }
 ],
 "metadata": {
  "kernelspec": {
   "display_name": "Python 3",
   "language": "python",
   "name": "python3"
  },
  "language_info": {
   "codemirror_mode": {
    "name": "ipython",
    "version": 3
   },
   "file_extension": ".py",
   "mimetype": "text/x-python",
   "name": "python",
   "nbconvert_exporter": "python",
   "pygments_lexer": "ipython3",
   "version": "3.11.1 (tags/v3.11.1:a7a450f, Dec  6 2022, 19:58:39) [MSC v.1934 64 bit (AMD64)]"
  },
  "vscode": {
   "interpreter": {
    "hash": "ebfc0a8d552866b0d59eba665220a57de3bc06f3ac643b8bef38dd8f66781fdd"
   }
  }
 },
 "nbformat": 4,
 "nbformat_minor": 5
}
